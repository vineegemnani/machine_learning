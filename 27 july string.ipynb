{
 "cells": [
  {
   "cell_type": "code",
   "execution_count": null,
   "id": "2a13f8c1",
   "metadata": {},
   "outputs": [],
   "source": [
    "str1='hello'\n",
    "str2='python'\n",
    "str3=' '"
   ]
  },
  {
   "cell_type": "code",
   "execution_count": null,
   "id": "ca0a81e9",
   "metadata": {},
   "outputs": [],
   "source": [
    "str1+str2"
   ]
  },
  {
   "cell_type": "code",
   "execution_count": null,
   "id": "05d6f01f",
   "metadata": {},
   "outputs": [],
   "source": [
    "str1+str3+str2"
   ]
  },
  {
   "cell_type": "code",
   "execution_count": null,
   "id": "952f7ebe",
   "metadata": {},
   "outputs": [],
   "source": [
    "str1*3"
   ]
  },
  {
   "cell_type": "code",
   "execution_count": null,
   "id": "05aad776",
   "metadata": {},
   "outputs": [],
   "source": [
    "#only string concatination possible"
   ]
  },
  {
   "cell_type": "code",
   "execution_count": null,
   "id": "b42a4d4a",
   "metadata": {},
   "outputs": [],
   "source": [
    "type(str1)"
   ]
  },
  {
   "cell_type": "code",
   "execution_count": null,
   "id": "4113f77e",
   "metadata": {},
   "outputs": [],
   "source": [
    "len(str1)"
   ]
  },
  {
   "cell_type": "code",
   "execution_count": null,
   "id": "373ce40f",
   "metadata": {},
   "outputs": [],
   "source": []
  },
  {
   "cell_type": "code",
   "execution_count": null,
   "id": "5b61e203",
   "metadata": {},
   "outputs": [],
   "source": []
  },
  {
   "cell_type": "code",
   "execution_count": null,
   "id": "7aa71156",
   "metadata": {},
   "outputs": [],
   "source": [
    "str1-str2"
   ]
  },
  {
   "cell_type": "code",
   "execution_count": null,
   "id": "1a24b777",
   "metadata": {},
   "outputs": [],
   "source": [
    "str1+' '+str2"
   ]
  },
  {
   "cell_type": "code",
   "execution_count": null,
   "id": "a5922b60",
   "metadata": {},
   "outputs": [],
   "source": [
    "str1+str2+str3"
   ]
  },
  {
   "cell_type": "code",
   "execution_count": null,
   "id": "36f3cd3a",
   "metadata": {},
   "outputs": [],
   "source": [
    "#index"
   ]
  },
  {
   "cell_type": "code",
   "execution_count": null,
   "id": "4b864111",
   "metadata": {},
   "outputs": [],
   "source": [
    "string1='python'\n"
   ]
  },
  {
   "cell_type": "code",
   "execution_count": null,
   "id": "810615a2",
   "metadata": {},
   "outputs": [],
   "source": [
    "string1[0]"
   ]
  },
  {
   "cell_type": "code",
   "execution_count": null,
   "id": "cb78d599",
   "metadata": {},
   "outputs": [],
   "source": [
    "string1[1]"
   ]
  },
  {
   "cell_type": "code",
   "execution_count": null,
   "id": "8d428957",
   "metadata": {},
   "outputs": [],
   "source": [
    "for i in range(0,6):\n",
    "    print(string1[i])"
   ]
  },
  {
   "cell_type": "code",
   "execution_count": null,
   "id": "99da7b36",
   "metadata": {},
   "outputs": [],
   "source": [
    "string1='python'\n",
    "i=0\n",
    "while(i<6):\n",
    "    print(string1[i])\n",
    "    i+=1\n"
   ]
  },
  {
   "cell_type": "code",
   "execution_count": null,
   "id": "17c46c41",
   "metadata": {},
   "outputs": [],
   "source": [
    "string1='python'\n",
    "i=0\n",
    "while(i<len(string1)):\n",
    "    print(string1[i])\n",
    "    i+=1"
   ]
  },
  {
   "cell_type": "code",
   "execution_count": null,
   "id": "ccb55613",
   "metadata": {},
   "outputs": [],
   "source": [
    "len(string1)"
   ]
  },
  {
   "cell_type": "code",
   "execution_count": null,
   "id": "7d5c8ce0",
   "metadata": {},
   "outputs": [],
   "source": [
    "string1='good morning'\n",
    "#o/p= the index og g is 0"
   ]
  },
  {
   "cell_type": "code",
   "execution_count": null,
   "id": "344ed313",
   "metadata": {},
   "outputs": [],
   "source": [
    "string1='good morning'\n",
    "for i in range(0,len(string1)):\n",
    "    print(\"The index of\" ,string1[i],\"is\" ,i)"
   ]
  },
  {
   "cell_type": "code",
   "execution_count": null,
   "id": "5f1eeda4",
   "metadata": {},
   "outputs": [],
   "source": [
    "len(string1)"
   ]
  },
  {
   "cell_type": "code",
   "execution_count": 4,
   "id": "00f1e36a",
   "metadata": {},
   "outputs": [
    {
     "name": "stdout",
     "output_type": "stream",
     "text": [
      "p 0\n",
      "y 1\n",
      "t 2\n",
      "h 3\n",
      "o 4\n",
      "n 5\n"
     ]
    }
   ],
   "source": [
    "str1='python'\n",
    "i=0\n",
    "while True:\n",
    "    print(str1[i],i)\n",
    "    i=i+1\n",
    "    if i==len(str1):\n",
    "        break\n",
    "\n",
    "        \n",
    "    "
   ]
  },
  {
   "cell_type": "code",
   "execution_count": null,
   "id": "6d55a9ba",
   "metadata": {},
   "outputs": [],
   "source": [
    "string1='python'\n",
    "for i in range(-len(string1),0):\n",
    "    print(\"The negative index of {} is {}\".format(string1[i],i))"
   ]
  },
  {
   "cell_type": "code",
   "execution_count": null,
   "id": "227b9988",
   "metadata": {},
   "outputs": [],
   "source": [
    "string1='python'\n",
    "for i in range(-len(string1),0):\n",
    "    print(\"The letter {} has positive index is {} and negative index  is {}\".format(string1[i],(i+len(string1)),i))\n",
    "    \n",
    "          "
   ]
  },
  {
   "cell_type": "code",
   "execution_count": null,
   "id": "c83fc09d",
   "metadata": {},
   "outputs": [],
   "source": []
  }
 ],
 "metadata": {
  "kernelspec": {
   "display_name": "Python 3 (ipykernel)",
   "language": "python",
   "name": "python3"
  },
  "language_info": {
   "codemirror_mode": {
    "name": "ipython",
    "version": 3
   },
   "file_extension": ".py",
   "mimetype": "text/x-python",
   "name": "python",
   "nbconvert_exporter": "python",
   "pygments_lexer": "ipython3",
   "version": "3.10.9"
  }
 },
 "nbformat": 4,
 "nbformat_minor": 5
}
